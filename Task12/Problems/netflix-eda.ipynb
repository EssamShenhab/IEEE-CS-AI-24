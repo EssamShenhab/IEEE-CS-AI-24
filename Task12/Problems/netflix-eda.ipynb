{
 "cells": [
  {
   "cell_type": "markdown",
   "id": "3f67abf2",
   "metadata": {
    "papermill": {
     "duration": 0.011357,
     "end_time": "2024-05-12T11:47:52.592385",
     "exception": false,
     "start_time": "2024-05-12T11:47:52.581028",
     "status": "completed"
    },
    "tags": []
   },
   "source": [
    "# 1. Importing Libraries"
   ]
  },
  {
   "cell_type": "code",
   "id": "a40aa72a",
   "metadata": {
    "execution": {
     "iopub.execute_input": "2024-05-12T11:47:52.618905Z",
     "iopub.status.busy": "2024-05-12T11:47:52.618172Z",
     "iopub.status.idle": "2024-05-12T11:47:55.151354Z",
     "shell.execute_reply": "2024-05-12T11:47:55.149805Z"
    },
    "papermill": {
     "duration": 2.550327,
     "end_time": "2024-05-12T11:47:55.154315",
     "exception": false,
     "start_time": "2024-05-12T11:47:52.603988",
     "status": "completed"
    },
    "tags": [],
    "ExecuteTime": {
     "end_time": "2024-06-28T14:34:32.896946Z",
     "start_time": "2024-06-28T14:34:31.975366Z"
    }
   },
   "source": "import pandas as pd",
   "outputs": [],
   "execution_count": 3
  },
  {
   "cell_type": "markdown",
   "id": "c9e27157",
   "metadata": {
    "papermill": {
     "duration": 0.010236,
     "end_time": "2024-05-12T11:47:55.175637",
     "exception": false,
     "start_time": "2024-05-12T11:47:55.165401",
     "status": "completed"
    },
    "tags": []
   },
   "source": [
    "# 2. Data Loading"
   ]
  },
  {
   "cell_type": "code",
   "id": "c481b89b",
   "metadata": {
    "execution": {
     "iopub.execute_input": "2024-05-12T11:47:55.198292Z",
     "iopub.status.busy": "2024-05-12T11:47:55.197778Z",
     "iopub.status.idle": "2024-05-12T11:47:55.293095Z",
     "shell.execute_reply": "2024-05-12T11:47:55.291847Z"
    },
    "papermill": {
     "duration": 0.109876,
     "end_time": "2024-05-12T11:47:55.295818",
     "exception": false,
     "start_time": "2024-05-12T11:47:55.185942",
     "status": "completed"
    },
    "tags": [],
    "ExecuteTime": {
     "end_time": "2024-06-28T14:34:33.783737Z",
     "start_time": "2024-06-28T14:34:33.659367Z"
    }
   },
   "source": "df = pd.read_csv('netflix1.csv')",
   "outputs": [],
   "execution_count": 4
  },
  {
   "cell_type": "markdown",
   "id": "033d9528",
   "metadata": {
    "papermill": {
     "duration": 0.011027,
     "end_time": "2024-05-12T11:47:55.317802",
     "exception": false,
     "start_time": "2024-05-12T11:47:55.306775",
     "status": "completed"
    },
    "tags": []
   },
   "source": [
    "# 3. Exploring Data"
   ]
  },
  {
   "cell_type": "code",
   "id": "a50808a2",
   "metadata": {
    "execution": {
     "iopub.execute_input": "2024-05-12T11:47:55.342183Z",
     "iopub.status.busy": "2024-05-12T11:47:55.341749Z",
     "iopub.status.idle": "2024-05-12T11:47:55.349805Z",
     "shell.execute_reply": "2024-05-12T11:47:55.348508Z"
    },
    "papermill": {
     "duration": 0.02367,
     "end_time": "2024-05-12T11:47:55.352369",
     "exception": false,
     "start_time": "2024-05-12T11:47:55.328699",
     "status": "completed"
    },
    "tags": [],
    "ExecuteTime": {
     "end_time": "2024-06-28T14:34:34.936307Z",
     "start_time": "2024-06-28T14:34:34.894870Z"
    }
   },
   "source": "df",
   "outputs": [
    {
     "data": {
      "text/plain": [
       "     show_id     type                             title         director  \\\n",
       "0         s1    Movie              Dick Johnson Is Dead  Kirsten Johnson   \n",
       "1         s3  TV Show                         Ganglands  Julien Leclercq   \n",
       "2         s6  TV Show                     Midnight Mass    Mike Flanagan   \n",
       "3        s14    Movie  Confessions of an Invisible Girl    Bruno Garotti   \n",
       "4         s8    Movie                           Sankofa     Haile Gerima   \n",
       "...      ...      ...                               ...              ...   \n",
       "8785   s8797  TV Show                        Yunus Emre        Not Given   \n",
       "8786   s8798  TV Show                         Zak Storm        Not Given   \n",
       "8787   s8801  TV Show                Zindagi Gulzar Hai        Not Given   \n",
       "8788   s8784  TV Show                              Yoko        Not Given   \n",
       "8789   s8786  TV Show                               YOM        Not Given   \n",
       "\n",
       "            country  date_added  release_year rating   duration  \\\n",
       "0     United States   9/25/2021          2020  PG-13     90 min   \n",
       "1            France   9/24/2021          2021  TV-MA   1 Season   \n",
       "2     United States   9/24/2021          2021  TV-MA   1 Season   \n",
       "3            Brazil   9/22/2021          2021  TV-PG     91 min   \n",
       "4     United States   9/24/2021          1993  TV-MA    125 min   \n",
       "...             ...         ...           ...    ...        ...   \n",
       "8785         Turkey   1/17/2017          2016  TV-PG  2 Seasons   \n",
       "8786  United States   9/13/2018          2016  TV-Y7  3 Seasons   \n",
       "8787       Pakistan  12/15/2016          2012  TV-PG   1 Season   \n",
       "8788       Pakistan   6/23/2018          2016   TV-Y   1 Season   \n",
       "8789       Pakistan    6/7/2018          2016  TV-Y7   1 Season   \n",
       "\n",
       "                                              listed_in  \n",
       "0                                         Documentaries  \n",
       "1     Crime TV Shows, International TV Shows, TV Act...  \n",
       "2                    TV Dramas, TV Horror, TV Mysteries  \n",
       "3                    Children & Family Movies, Comedies  \n",
       "4      Dramas, Independent Movies, International Movies  \n",
       "...                                                 ...  \n",
       "8785                  International TV Shows, TV Dramas  \n",
       "8786                                           Kids' TV  \n",
       "8787  International TV Shows, Romantic TV Shows, TV ...  \n",
       "8788                                           Kids' TV  \n",
       "8789                                           Kids' TV  \n",
       "\n",
       "[8790 rows x 10 columns]"
      ],
      "text/html": [
       "<div>\n",
       "<style scoped>\n",
       "    .dataframe tbody tr th:only-of-type {\n",
       "        vertical-align: middle;\n",
       "    }\n",
       "\n",
       "    .dataframe tbody tr th {\n",
       "        vertical-align: top;\n",
       "    }\n",
       "\n",
       "    .dataframe thead th {\n",
       "        text-align: right;\n",
       "    }\n",
       "</style>\n",
       "<table border=\"1\" class=\"dataframe\">\n",
       "  <thead>\n",
       "    <tr style=\"text-align: right;\">\n",
       "      <th></th>\n",
       "      <th>show_id</th>\n",
       "      <th>type</th>\n",
       "      <th>title</th>\n",
       "      <th>director</th>\n",
       "      <th>country</th>\n",
       "      <th>date_added</th>\n",
       "      <th>release_year</th>\n",
       "      <th>rating</th>\n",
       "      <th>duration</th>\n",
       "      <th>listed_in</th>\n",
       "    </tr>\n",
       "  </thead>\n",
       "  <tbody>\n",
       "    <tr>\n",
       "      <th>0</th>\n",
       "      <td>s1</td>\n",
       "      <td>Movie</td>\n",
       "      <td>Dick Johnson Is Dead</td>\n",
       "      <td>Kirsten Johnson</td>\n",
       "      <td>United States</td>\n",
       "      <td>9/25/2021</td>\n",
       "      <td>2020</td>\n",
       "      <td>PG-13</td>\n",
       "      <td>90 min</td>\n",
       "      <td>Documentaries</td>\n",
       "    </tr>\n",
       "    <tr>\n",
       "      <th>1</th>\n",
       "      <td>s3</td>\n",
       "      <td>TV Show</td>\n",
       "      <td>Ganglands</td>\n",
       "      <td>Julien Leclercq</td>\n",
       "      <td>France</td>\n",
       "      <td>9/24/2021</td>\n",
       "      <td>2021</td>\n",
       "      <td>TV-MA</td>\n",
       "      <td>1 Season</td>\n",
       "      <td>Crime TV Shows, International TV Shows, TV Act...</td>\n",
       "    </tr>\n",
       "    <tr>\n",
       "      <th>2</th>\n",
       "      <td>s6</td>\n",
       "      <td>TV Show</td>\n",
       "      <td>Midnight Mass</td>\n",
       "      <td>Mike Flanagan</td>\n",
       "      <td>United States</td>\n",
       "      <td>9/24/2021</td>\n",
       "      <td>2021</td>\n",
       "      <td>TV-MA</td>\n",
       "      <td>1 Season</td>\n",
       "      <td>TV Dramas, TV Horror, TV Mysteries</td>\n",
       "    </tr>\n",
       "    <tr>\n",
       "      <th>3</th>\n",
       "      <td>s14</td>\n",
       "      <td>Movie</td>\n",
       "      <td>Confessions of an Invisible Girl</td>\n",
       "      <td>Bruno Garotti</td>\n",
       "      <td>Brazil</td>\n",
       "      <td>9/22/2021</td>\n",
       "      <td>2021</td>\n",
       "      <td>TV-PG</td>\n",
       "      <td>91 min</td>\n",
       "      <td>Children &amp; Family Movies, Comedies</td>\n",
       "    </tr>\n",
       "    <tr>\n",
       "      <th>4</th>\n",
       "      <td>s8</td>\n",
       "      <td>Movie</td>\n",
       "      <td>Sankofa</td>\n",
       "      <td>Haile Gerima</td>\n",
       "      <td>United States</td>\n",
       "      <td>9/24/2021</td>\n",
       "      <td>1993</td>\n",
       "      <td>TV-MA</td>\n",
       "      <td>125 min</td>\n",
       "      <td>Dramas, Independent Movies, International Movies</td>\n",
       "    </tr>\n",
       "    <tr>\n",
       "      <th>...</th>\n",
       "      <td>...</td>\n",
       "      <td>...</td>\n",
       "      <td>...</td>\n",
       "      <td>...</td>\n",
       "      <td>...</td>\n",
       "      <td>...</td>\n",
       "      <td>...</td>\n",
       "      <td>...</td>\n",
       "      <td>...</td>\n",
       "      <td>...</td>\n",
       "    </tr>\n",
       "    <tr>\n",
       "      <th>8785</th>\n",
       "      <td>s8797</td>\n",
       "      <td>TV Show</td>\n",
       "      <td>Yunus Emre</td>\n",
       "      <td>Not Given</td>\n",
       "      <td>Turkey</td>\n",
       "      <td>1/17/2017</td>\n",
       "      <td>2016</td>\n",
       "      <td>TV-PG</td>\n",
       "      <td>2 Seasons</td>\n",
       "      <td>International TV Shows, TV Dramas</td>\n",
       "    </tr>\n",
       "    <tr>\n",
       "      <th>8786</th>\n",
       "      <td>s8798</td>\n",
       "      <td>TV Show</td>\n",
       "      <td>Zak Storm</td>\n",
       "      <td>Not Given</td>\n",
       "      <td>United States</td>\n",
       "      <td>9/13/2018</td>\n",
       "      <td>2016</td>\n",
       "      <td>TV-Y7</td>\n",
       "      <td>3 Seasons</td>\n",
       "      <td>Kids' TV</td>\n",
       "    </tr>\n",
       "    <tr>\n",
       "      <th>8787</th>\n",
       "      <td>s8801</td>\n",
       "      <td>TV Show</td>\n",
       "      <td>Zindagi Gulzar Hai</td>\n",
       "      <td>Not Given</td>\n",
       "      <td>Pakistan</td>\n",
       "      <td>12/15/2016</td>\n",
       "      <td>2012</td>\n",
       "      <td>TV-PG</td>\n",
       "      <td>1 Season</td>\n",
       "      <td>International TV Shows, Romantic TV Shows, TV ...</td>\n",
       "    </tr>\n",
       "    <tr>\n",
       "      <th>8788</th>\n",
       "      <td>s8784</td>\n",
       "      <td>TV Show</td>\n",
       "      <td>Yoko</td>\n",
       "      <td>Not Given</td>\n",
       "      <td>Pakistan</td>\n",
       "      <td>6/23/2018</td>\n",
       "      <td>2016</td>\n",
       "      <td>TV-Y</td>\n",
       "      <td>1 Season</td>\n",
       "      <td>Kids' TV</td>\n",
       "    </tr>\n",
       "    <tr>\n",
       "      <th>8789</th>\n",
       "      <td>s8786</td>\n",
       "      <td>TV Show</td>\n",
       "      <td>YOM</td>\n",
       "      <td>Not Given</td>\n",
       "      <td>Pakistan</td>\n",
       "      <td>6/7/2018</td>\n",
       "      <td>2016</td>\n",
       "      <td>TV-Y7</td>\n",
       "      <td>1 Season</td>\n",
       "      <td>Kids' TV</td>\n",
       "    </tr>\n",
       "  </tbody>\n",
       "</table>\n",
       "<p>8790 rows × 10 columns</p>\n",
       "</div>"
      ]
     },
     "execution_count": 5,
     "metadata": {},
     "output_type": "execute_result"
    }
   ],
   "execution_count": 5
  },
  {
   "cell_type": "code",
   "id": "910a4e60",
   "metadata": {
    "execution": {
     "iopub.execute_input": "2024-05-12T11:47:55.379073Z",
     "iopub.status.busy": "2024-05-12T11:47:55.378335Z",
     "iopub.status.idle": "2024-05-12T11:47:55.399351Z",
     "shell.execute_reply": "2024-05-12T11:47:55.398072Z"
    },
    "papermill": {
     "duration": 0.038174,
     "end_time": "2024-05-12T11:47:55.402115",
     "exception": false,
     "start_time": "2024-05-12T11:47:55.363941",
     "status": "completed"
    },
    "tags": [],
    "ExecuteTime": {
     "end_time": "2024-06-28T14:34:46.358261Z",
     "start_time": "2024-06-28T14:34:46.342695Z"
    }
   },
   "source": "df.shape",
   "outputs": [
    {
     "data": {
      "text/plain": [
       "(8790, 10)"
      ]
     },
     "execution_count": 6,
     "metadata": {},
     "output_type": "execute_result"
    }
   ],
   "execution_count": 6
  },
  {
   "cell_type": "code",
   "id": "2a254fcd",
   "metadata": {
    "execution": {
     "iopub.execute_input": "2024-05-12T11:47:55.427195Z",
     "iopub.status.busy": "2024-05-12T11:47:55.426771Z",
     "iopub.status.idle": "2024-05-12T11:47:55.445377Z",
     "shell.execute_reply": "2024-05-12T11:47:55.444447Z"
    },
    "papermill": {
     "duration": 0.034395,
     "end_time": "2024-05-12T11:47:55.448001",
     "exception": false,
     "start_time": "2024-05-12T11:47:55.413606",
     "status": "completed"
    },
    "tags": [],
    "ExecuteTime": {
     "end_time": "2024-06-28T14:40:00.488048Z",
     "start_time": "2024-06-28T14:40:00.478207Z"
    }
   },
   "source": "df.columns",
   "outputs": [
    {
     "data": {
      "text/plain": [
       "Index(['show_id', 'type', 'title', 'director', 'country', 'date_added',\n",
       "       'release_year', 'rating', 'duration', 'listed_in'],\n",
       "      dtype='object')"
      ]
     },
     "execution_count": 19,
     "metadata": {},
     "output_type": "execute_result"
    }
   ],
   "execution_count": 19
  },
  {
   "cell_type": "code",
   "id": "ad63fcc0",
   "metadata": {
    "execution": {
     "iopub.execute_input": "2024-05-12T11:47:55.473503Z",
     "iopub.status.busy": "2024-05-12T11:47:55.472931Z",
     "iopub.status.idle": "2024-05-12T11:47:55.506800Z",
     "shell.execute_reply": "2024-05-12T11:47:55.505103Z"
    },
    "papermill": {
     "duration": 0.049665,
     "end_time": "2024-05-12T11:47:55.509529",
     "exception": false,
     "start_time": "2024-05-12T11:47:55.459864",
     "status": "completed"
    },
    "tags": [],
    "ExecuteTime": {
     "end_time": "2024-06-28T14:35:21.317382Z",
     "start_time": "2024-06-28T14:35:21.294382Z"
    }
   },
   "source": "df.isna().sum()",
   "outputs": [
    {
     "data": {
      "text/plain": [
       "show_id         0\n",
       "type            0\n",
       "title           0\n",
       "director        0\n",
       "country         0\n",
       "date_added      0\n",
       "release_year    0\n",
       "rating          0\n",
       "duration        0\n",
       "listed_in       0\n",
       "dtype: int64"
      ]
     },
     "execution_count": 8,
     "metadata": {},
     "output_type": "execute_result"
    }
   ],
   "execution_count": 8
  },
  {
   "cell_type": "code",
   "id": "76a32c15",
   "metadata": {
    "execution": {
     "iopub.execute_input": "2024-05-12T11:47:55.535042Z",
     "iopub.status.busy": "2024-05-12T11:47:55.534586Z",
     "iopub.status.idle": "2024-05-12T11:47:55.554982Z",
     "shell.execute_reply": "2024-05-12T11:47:55.553435Z"
    },
    "papermill": {
     "duration": 0.036595,
     "end_time": "2024-05-12T11:47:55.557860",
     "exception": false,
     "start_time": "2024-05-12T11:47:55.521265",
     "status": "completed"
    },
    "tags": [],
    "ExecuteTime": {
     "end_time": "2024-06-28T14:35:29.412957Z",
     "start_time": "2024-06-28T14:35:29.378741Z"
    }
   },
   "source": "df.duplicated().sum()",
   "outputs": [
    {
     "data": {
      "text/plain": [
       "0"
      ]
     },
     "execution_count": 9,
     "metadata": {},
     "output_type": "execute_result"
    }
   ],
   "execution_count": 9
  },
  {
   "cell_type": "code",
   "id": "4ec37130",
   "metadata": {
    "execution": {
     "iopub.execute_input": "2024-05-12T11:47:55.584890Z",
     "iopub.status.busy": "2024-05-12T11:47:55.584458Z",
     "iopub.status.idle": "2024-05-12T11:47:55.591771Z",
     "shell.execute_reply": "2024-05-12T11:47:55.590879Z"
    },
    "papermill": {
     "duration": 0.024235,
     "end_time": "2024-05-12T11:47:55.594200",
     "exception": false,
     "start_time": "2024-05-12T11:47:55.569965",
     "status": "completed"
    },
    "tags": [],
    "ExecuteTime": {
     "end_time": "2024-06-28T14:36:12.217708Z",
     "start_time": "2024-06-28T14:36:12.202296Z"
    }
   },
   "source": "df.dtypes",
   "outputs": [
    {
     "data": {
      "text/plain": [
       "show_id         object\n",
       "type            object\n",
       "title           object\n",
       "director        object\n",
       "country         object\n",
       "date_added      object\n",
       "release_year     int64\n",
       "rating          object\n",
       "duration        object\n",
       "listed_in       object\n",
       "dtype: object"
      ]
     },
     "execution_count": 10,
     "metadata": {},
     "output_type": "execute_result"
    }
   ],
   "execution_count": 10
  },
  {
   "metadata": {
    "ExecuteTime": {
     "end_time": "2024-06-28T14:40:39.063555Z",
     "start_time": "2024-06-28T14:40:39.041319Z"
    }
   },
   "cell_type": "code",
   "source": "df.describe()",
   "id": "eab127253691b21d",
   "outputs": [
    {
     "data": {
      "text/plain": [
       "       release_year\n",
       "count   8790.000000\n",
       "mean    2014.183163\n",
       "std        8.825466\n",
       "min     1925.000000\n",
       "25%     2013.000000\n",
       "50%     2017.000000\n",
       "75%     2019.000000\n",
       "max     2021.000000"
      ],
      "text/html": [
       "<div>\n",
       "<style scoped>\n",
       "    .dataframe tbody tr th:only-of-type {\n",
       "        vertical-align: middle;\n",
       "    }\n",
       "\n",
       "    .dataframe tbody tr th {\n",
       "        vertical-align: top;\n",
       "    }\n",
       "\n",
       "    .dataframe thead th {\n",
       "        text-align: right;\n",
       "    }\n",
       "</style>\n",
       "<table border=\"1\" class=\"dataframe\">\n",
       "  <thead>\n",
       "    <tr style=\"text-align: right;\">\n",
       "      <th></th>\n",
       "      <th>release_year</th>\n",
       "    </tr>\n",
       "  </thead>\n",
       "  <tbody>\n",
       "    <tr>\n",
       "      <th>count</th>\n",
       "      <td>8790.000000</td>\n",
       "    </tr>\n",
       "    <tr>\n",
       "      <th>mean</th>\n",
       "      <td>2014.183163</td>\n",
       "    </tr>\n",
       "    <tr>\n",
       "      <th>std</th>\n",
       "      <td>8.825466</td>\n",
       "    </tr>\n",
       "    <tr>\n",
       "      <th>min</th>\n",
       "      <td>1925.000000</td>\n",
       "    </tr>\n",
       "    <tr>\n",
       "      <th>25%</th>\n",
       "      <td>2013.000000</td>\n",
       "    </tr>\n",
       "    <tr>\n",
       "      <th>50%</th>\n",
       "      <td>2017.000000</td>\n",
       "    </tr>\n",
       "    <tr>\n",
       "      <th>75%</th>\n",
       "      <td>2019.000000</td>\n",
       "    </tr>\n",
       "    <tr>\n",
       "      <th>max</th>\n",
       "      <td>2021.000000</td>\n",
       "    </tr>\n",
       "  </tbody>\n",
       "</table>\n",
       "</div>"
      ]
     },
     "execution_count": 20,
     "metadata": {},
     "output_type": "execute_result"
    }
   ],
   "execution_count": 20
  },
  {
   "cell_type": "code",
   "id": "a40fad2f",
   "metadata": {
    "execution": {
     "iopub.execute_input": "2024-05-12T11:47:55.624250Z",
     "iopub.status.busy": "2024-05-12T11:47:55.623228Z",
     "iopub.status.idle": "2024-05-12T11:47:55.645773Z",
     "shell.execute_reply": "2024-05-12T11:47:55.644483Z"
    },
    "papermill": {
     "duration": 0.042088,
     "end_time": "2024-05-12T11:47:55.648748",
     "exception": false,
     "start_time": "2024-05-12T11:47:55.606660",
     "status": "completed"
    },
    "tags": [],
    "ExecuteTime": {
     "end_time": "2024-06-28T14:36:34.010922Z",
     "start_time": "2024-06-28T14:36:33.986223Z"
    }
   },
   "source": "df.nunique()",
   "outputs": [
    {
     "data": {
      "text/plain": [
       "show_id         8790\n",
       "type               2\n",
       "title           8787\n",
       "director        4528\n",
       "country           86\n",
       "date_added      1713\n",
       "release_year      74\n",
       "rating            14\n",
       "duration         220\n",
       "listed_in        513\n",
       "dtype: int64"
      ]
     },
     "execution_count": 11,
     "metadata": {},
     "output_type": "execute_result"
    }
   ],
   "execution_count": 11
  },
  {
   "cell_type": "markdown",
   "id": "eb01c011",
   "metadata": {
    "papermill": {
     "duration": 0.011622,
     "end_time": "2024-05-12T11:47:55.673036",
     "exception": false,
     "start_time": "2024-05-12T11:47:55.661414",
     "status": "completed"
    },
    "tags": []
   },
   "source": [
    "# 4. Data Cleaning"
   ]
  },
  {
   "cell_type": "code",
   "id": "498f46b8",
   "metadata": {
    "execution": {
     "iopub.execute_input": "2024-05-12T11:47:55.701584Z",
     "iopub.status.busy": "2024-05-12T11:47:55.700285Z",
     "iopub.status.idle": "2024-05-12T11:47:55.722705Z",
     "shell.execute_reply": "2024-05-12T11:47:55.721686Z"
    },
    "papermill": {
     "duration": 0.039661,
     "end_time": "2024-05-12T11:47:55.725480",
     "exception": false,
     "start_time": "2024-05-12T11:47:55.685819",
     "status": "completed"
    },
    "tags": [],
    "ExecuteTime": {
     "end_time": "2024-06-28T14:36:52.050445Z",
     "start_time": "2024-06-28T14:36:52.019436Z"
    }
   },
   "source": "df.dropna(axis=0, how='any')",
   "outputs": [
    {
     "data": {
      "text/plain": [
       "     show_id     type                             title         director  \\\n",
       "0         s1    Movie              Dick Johnson Is Dead  Kirsten Johnson   \n",
       "1         s3  TV Show                         Ganglands  Julien Leclercq   \n",
       "2         s6  TV Show                     Midnight Mass    Mike Flanagan   \n",
       "3        s14    Movie  Confessions of an Invisible Girl    Bruno Garotti   \n",
       "4         s8    Movie                           Sankofa     Haile Gerima   \n",
       "...      ...      ...                               ...              ...   \n",
       "8785   s8797  TV Show                        Yunus Emre        Not Given   \n",
       "8786   s8798  TV Show                         Zak Storm        Not Given   \n",
       "8787   s8801  TV Show                Zindagi Gulzar Hai        Not Given   \n",
       "8788   s8784  TV Show                              Yoko        Not Given   \n",
       "8789   s8786  TV Show                               YOM        Not Given   \n",
       "\n",
       "            country  date_added  release_year rating   duration  \\\n",
       "0     United States   9/25/2021          2020  PG-13     90 min   \n",
       "1            France   9/24/2021          2021  TV-MA   1 Season   \n",
       "2     United States   9/24/2021          2021  TV-MA   1 Season   \n",
       "3            Brazil   9/22/2021          2021  TV-PG     91 min   \n",
       "4     United States   9/24/2021          1993  TV-MA    125 min   \n",
       "...             ...         ...           ...    ...        ...   \n",
       "8785         Turkey   1/17/2017          2016  TV-PG  2 Seasons   \n",
       "8786  United States   9/13/2018          2016  TV-Y7  3 Seasons   \n",
       "8787       Pakistan  12/15/2016          2012  TV-PG   1 Season   \n",
       "8788       Pakistan   6/23/2018          2016   TV-Y   1 Season   \n",
       "8789       Pakistan    6/7/2018          2016  TV-Y7   1 Season   \n",
       "\n",
       "                                              listed_in  \n",
       "0                                         Documentaries  \n",
       "1     Crime TV Shows, International TV Shows, TV Act...  \n",
       "2                    TV Dramas, TV Horror, TV Mysteries  \n",
       "3                    Children & Family Movies, Comedies  \n",
       "4      Dramas, Independent Movies, International Movies  \n",
       "...                                                 ...  \n",
       "8785                  International TV Shows, TV Dramas  \n",
       "8786                                           Kids' TV  \n",
       "8787  International TV Shows, Romantic TV Shows, TV ...  \n",
       "8788                                           Kids' TV  \n",
       "8789                                           Kids' TV  \n",
       "\n",
       "[8790 rows x 10 columns]"
      ],
      "text/html": [
       "<div>\n",
       "<style scoped>\n",
       "    .dataframe tbody tr th:only-of-type {\n",
       "        vertical-align: middle;\n",
       "    }\n",
       "\n",
       "    .dataframe tbody tr th {\n",
       "        vertical-align: top;\n",
       "    }\n",
       "\n",
       "    .dataframe thead th {\n",
       "        text-align: right;\n",
       "    }\n",
       "</style>\n",
       "<table border=\"1\" class=\"dataframe\">\n",
       "  <thead>\n",
       "    <tr style=\"text-align: right;\">\n",
       "      <th></th>\n",
       "      <th>show_id</th>\n",
       "      <th>type</th>\n",
       "      <th>title</th>\n",
       "      <th>director</th>\n",
       "      <th>country</th>\n",
       "      <th>date_added</th>\n",
       "      <th>release_year</th>\n",
       "      <th>rating</th>\n",
       "      <th>duration</th>\n",
       "      <th>listed_in</th>\n",
       "    </tr>\n",
       "  </thead>\n",
       "  <tbody>\n",
       "    <tr>\n",
       "      <th>0</th>\n",
       "      <td>s1</td>\n",
       "      <td>Movie</td>\n",
       "      <td>Dick Johnson Is Dead</td>\n",
       "      <td>Kirsten Johnson</td>\n",
       "      <td>United States</td>\n",
       "      <td>9/25/2021</td>\n",
       "      <td>2020</td>\n",
       "      <td>PG-13</td>\n",
       "      <td>90 min</td>\n",
       "      <td>Documentaries</td>\n",
       "    </tr>\n",
       "    <tr>\n",
       "      <th>1</th>\n",
       "      <td>s3</td>\n",
       "      <td>TV Show</td>\n",
       "      <td>Ganglands</td>\n",
       "      <td>Julien Leclercq</td>\n",
       "      <td>France</td>\n",
       "      <td>9/24/2021</td>\n",
       "      <td>2021</td>\n",
       "      <td>TV-MA</td>\n",
       "      <td>1 Season</td>\n",
       "      <td>Crime TV Shows, International TV Shows, TV Act...</td>\n",
       "    </tr>\n",
       "    <tr>\n",
       "      <th>2</th>\n",
       "      <td>s6</td>\n",
       "      <td>TV Show</td>\n",
       "      <td>Midnight Mass</td>\n",
       "      <td>Mike Flanagan</td>\n",
       "      <td>United States</td>\n",
       "      <td>9/24/2021</td>\n",
       "      <td>2021</td>\n",
       "      <td>TV-MA</td>\n",
       "      <td>1 Season</td>\n",
       "      <td>TV Dramas, TV Horror, TV Mysteries</td>\n",
       "    </tr>\n",
       "    <tr>\n",
       "      <th>3</th>\n",
       "      <td>s14</td>\n",
       "      <td>Movie</td>\n",
       "      <td>Confessions of an Invisible Girl</td>\n",
       "      <td>Bruno Garotti</td>\n",
       "      <td>Brazil</td>\n",
       "      <td>9/22/2021</td>\n",
       "      <td>2021</td>\n",
       "      <td>TV-PG</td>\n",
       "      <td>91 min</td>\n",
       "      <td>Children &amp; Family Movies, Comedies</td>\n",
       "    </tr>\n",
       "    <tr>\n",
       "      <th>4</th>\n",
       "      <td>s8</td>\n",
       "      <td>Movie</td>\n",
       "      <td>Sankofa</td>\n",
       "      <td>Haile Gerima</td>\n",
       "      <td>United States</td>\n",
       "      <td>9/24/2021</td>\n",
       "      <td>1993</td>\n",
       "      <td>TV-MA</td>\n",
       "      <td>125 min</td>\n",
       "      <td>Dramas, Independent Movies, International Movies</td>\n",
       "    </tr>\n",
       "    <tr>\n",
       "      <th>...</th>\n",
       "      <td>...</td>\n",
       "      <td>...</td>\n",
       "      <td>...</td>\n",
       "      <td>...</td>\n",
       "      <td>...</td>\n",
       "      <td>...</td>\n",
       "      <td>...</td>\n",
       "      <td>...</td>\n",
       "      <td>...</td>\n",
       "      <td>...</td>\n",
       "    </tr>\n",
       "    <tr>\n",
       "      <th>8785</th>\n",
       "      <td>s8797</td>\n",
       "      <td>TV Show</td>\n",
       "      <td>Yunus Emre</td>\n",
       "      <td>Not Given</td>\n",
       "      <td>Turkey</td>\n",
       "      <td>1/17/2017</td>\n",
       "      <td>2016</td>\n",
       "      <td>TV-PG</td>\n",
       "      <td>2 Seasons</td>\n",
       "      <td>International TV Shows, TV Dramas</td>\n",
       "    </tr>\n",
       "    <tr>\n",
       "      <th>8786</th>\n",
       "      <td>s8798</td>\n",
       "      <td>TV Show</td>\n",
       "      <td>Zak Storm</td>\n",
       "      <td>Not Given</td>\n",
       "      <td>United States</td>\n",
       "      <td>9/13/2018</td>\n",
       "      <td>2016</td>\n",
       "      <td>TV-Y7</td>\n",
       "      <td>3 Seasons</td>\n",
       "      <td>Kids' TV</td>\n",
       "    </tr>\n",
       "    <tr>\n",
       "      <th>8787</th>\n",
       "      <td>s8801</td>\n",
       "      <td>TV Show</td>\n",
       "      <td>Zindagi Gulzar Hai</td>\n",
       "      <td>Not Given</td>\n",
       "      <td>Pakistan</td>\n",
       "      <td>12/15/2016</td>\n",
       "      <td>2012</td>\n",
       "      <td>TV-PG</td>\n",
       "      <td>1 Season</td>\n",
       "      <td>International TV Shows, Romantic TV Shows, TV ...</td>\n",
       "    </tr>\n",
       "    <tr>\n",
       "      <th>8788</th>\n",
       "      <td>s8784</td>\n",
       "      <td>TV Show</td>\n",
       "      <td>Yoko</td>\n",
       "      <td>Not Given</td>\n",
       "      <td>Pakistan</td>\n",
       "      <td>6/23/2018</td>\n",
       "      <td>2016</td>\n",
       "      <td>TV-Y</td>\n",
       "      <td>1 Season</td>\n",
       "      <td>Kids' TV</td>\n",
       "    </tr>\n",
       "    <tr>\n",
       "      <th>8789</th>\n",
       "      <td>s8786</td>\n",
       "      <td>TV Show</td>\n",
       "      <td>YOM</td>\n",
       "      <td>Not Given</td>\n",
       "      <td>Pakistan</td>\n",
       "      <td>6/7/2018</td>\n",
       "      <td>2016</td>\n",
       "      <td>TV-Y7</td>\n",
       "      <td>1 Season</td>\n",
       "      <td>Kids' TV</td>\n",
       "    </tr>\n",
       "  </tbody>\n",
       "</table>\n",
       "<p>8790 rows × 10 columns</p>\n",
       "</div>"
      ]
     },
     "execution_count": 12,
     "metadata": {},
     "output_type": "execute_result"
    }
   ],
   "execution_count": 12
  },
  {
   "cell_type": "code",
   "id": "da4a1cd9",
   "metadata": {
    "execution": {
     "iopub.execute_input": "2024-05-12T11:47:55.752970Z",
     "iopub.status.busy": "2024-05-12T11:47:55.752530Z",
     "iopub.status.idle": "2024-05-12T11:47:55.763551Z",
     "shell.execute_reply": "2024-05-12T11:47:55.762651Z"
    },
    "papermill": {
     "duration": 0.027862,
     "end_time": "2024-05-12T11:47:55.766219",
     "exception": false,
     "start_time": "2024-05-12T11:47:55.738357",
     "status": "completed"
    },
    "tags": [],
    "ExecuteTime": {
     "end_time": "2024-06-28T14:37:11.111111Z",
     "start_time": "2024-06-28T14:37:11.084904Z"
    }
   },
   "source": "df.drop_duplicates(inplace=True)",
   "outputs": [],
   "execution_count": 15
  },
  {
   "cell_type": "code",
   "id": "b4683384",
   "metadata": {
    "execution": {
     "iopub.execute_input": "2024-05-12T11:47:55.793536Z",
     "iopub.status.busy": "2024-05-12T11:47:55.792891Z",
     "iopub.status.idle": "2024-05-12T11:47:55.812353Z",
     "shell.execute_reply": "2024-05-12T11:47:55.810244Z"
    },
    "papermill": {
     "duration": 0.036393,
     "end_time": "2024-05-12T11:47:55.815422",
     "exception": false,
     "start_time": "2024-05-12T11:47:55.779029",
     "status": "completed"
    },
    "tags": []
   },
   "source": [],
   "outputs": [],
   "execution_count": null
  },
  {
   "cell_type": "markdown",
   "id": "0ce1221c",
   "metadata": {
    "papermill": {
     "duration": 0.012237,
     "end_time": "2024-05-12T11:47:55.866410",
     "exception": false,
     "start_time": "2024-05-12T11:47:55.854173",
     "status": "completed"
    },
    "tags": []
   },
   "source": [
    "# Total Content on Netflix"
   ]
  },
  {
   "cell_type": "code",
   "id": "864187a3",
   "metadata": {
    "execution": {
     "iopub.execute_input": "2024-05-12T11:47:55.893987Z",
     "iopub.status.busy": "2024-05-12T11:47:55.892692Z",
     "iopub.status.idle": "2024-05-12T11:47:55.904083Z",
     "shell.execute_reply": "2024-05-12T11:47:55.902729Z"
    },
    "papermill": {
     "duration": 0.027497,
     "end_time": "2024-05-12T11:47:55.906504",
     "exception": false,
     "start_time": "2024-05-12T11:47:55.879007",
     "status": "completed"
    },
    "tags": [],
    "ExecuteTime": {
     "end_time": "2024-06-28T14:41:10.730076Z",
     "start_time": "2024-06-28T14:41:10.717886Z"
    }
   },
   "source": "df.size",
   "outputs": [
    {
     "data": {
      "text/plain": [
       "87900"
      ]
     },
     "execution_count": 21,
     "metadata": {},
     "output_type": "execute_result"
    }
   ],
   "execution_count": 21
  },
  {
   "cell_type": "markdown",
   "id": "0a7023b5",
   "metadata": {
    "papermill": {
     "duration": 0.012666,
     "end_time": "2024-05-12T11:47:56.418013",
     "exception": false,
     "start_time": "2024-05-12T11:47:56.405347",
     "status": "completed"
    },
    "tags": []
   },
   "source": [
    "#  Top 10 countries with Netflix Content"
   ]
  },
  {
   "cell_type": "code",
   "id": "6e1e99a1",
   "metadata": {
    "execution": {
     "iopub.execute_input": "2024-05-12T11:47:56.446650Z",
     "iopub.status.busy": "2024-05-12T11:47:56.446202Z",
     "iopub.status.idle": "2024-05-12T11:47:56.463860Z",
     "shell.execute_reply": "2024-05-12T11:47:56.462623Z"
    },
    "papermill": {
     "duration": 0.034952,
     "end_time": "2024-05-12T11:47:56.466497",
     "exception": false,
     "start_time": "2024-05-12T11:47:56.431545",
     "status": "completed"
    },
    "tags": [],
    "ExecuteTime": {
     "end_time": "2024-06-28T14:48:14.554452Z",
     "start_time": "2024-06-28T14:48:14.533683Z"
    }
   },
   "source": "df[\"country\"].value_counts().head(10)",
   "outputs": [
    {
     "data": {
      "text/plain": [
       "country\n",
       "United States     3240\n",
       "India             1057\n",
       "United Kingdom     638\n",
       "Pakistan           421\n",
       "Not Given          287\n",
       "Canada             271\n",
       "Japan              259\n",
       "South Korea        214\n",
       "France             213\n",
       "Spain              182\n",
       "Name: count, dtype: int64"
      ]
     },
     "execution_count": 30,
     "metadata": {},
     "output_type": "execute_result"
    }
   ],
   "execution_count": 30
  },
  {
   "cell_type": "markdown",
   "id": "4927bea3",
   "metadata": {
    "papermill": {
     "duration": 0.013929,
     "end_time": "2024-05-12T11:47:56.879102",
     "exception": false,
     "start_time": "2024-05-12T11:47:56.865173",
     "status": "completed"
    },
    "tags": []
   },
   "source": [
    "# Monthly Trend of Movie and TV Show Releases"
   ]
  },
  {
   "cell_type": "code",
   "id": "167475f2",
   "metadata": {
    "execution": {
     "iopub.execute_input": "2024-05-12T11:47:56.910231Z",
     "iopub.status.busy": "2024-05-12T11:47:56.909461Z",
     "iopub.status.idle": "2024-05-12T11:47:57.312675Z",
     "shell.execute_reply": "2024-05-12T11:47:57.311677Z"
    },
    "papermill": {
     "duration": 0.421824,
     "end_time": "2024-05-12T11:47:57.315283",
     "exception": false,
     "start_time": "2024-05-12T11:47:56.893459",
     "status": "completed"
    },
    "tags": [],
    "ExecuteTime": {
     "end_time": "2024-06-28T14:59:03.964744Z",
     "start_time": "2024-06-28T14:59:03.923404Z"
    }
   },
   "source": [
    "df['date_added'] = pd.to_datetime(df['date_added'])\n",
    "df['month_added'] = df['date_added'].dt.month\n",
    "df['year_added'] = df['date_added'].dt.year\n",
    "df.groupby(['year_added', 'month_added']).size().reset_index(name='count')"
   ],
   "outputs": [
    {
     "data": {
      "text/plain": [
       "     year_added  month_added  count\n",
       "0          2008            1      1\n",
       "1          2008            2      1\n",
       "2          2009            5      1\n",
       "3          2009           11      1\n",
       "4          2010           11      1\n",
       "..          ...          ...    ...\n",
       "103        2021            5    132\n",
       "104        2021            6    207\n",
       "105        2021            7    257\n",
       "106        2021            8    178\n",
       "107        2021            9    183\n",
       "\n",
       "[108 rows x 3 columns]"
      ],
      "text/html": [
       "<div>\n",
       "<style scoped>\n",
       "    .dataframe tbody tr th:only-of-type {\n",
       "        vertical-align: middle;\n",
       "    }\n",
       "\n",
       "    .dataframe tbody tr th {\n",
       "        vertical-align: top;\n",
       "    }\n",
       "\n",
       "    .dataframe thead th {\n",
       "        text-align: right;\n",
       "    }\n",
       "</style>\n",
       "<table border=\"1\" class=\"dataframe\">\n",
       "  <thead>\n",
       "    <tr style=\"text-align: right;\">\n",
       "      <th></th>\n",
       "      <th>year_added</th>\n",
       "      <th>month_added</th>\n",
       "      <th>count</th>\n",
       "    </tr>\n",
       "  </thead>\n",
       "  <tbody>\n",
       "    <tr>\n",
       "      <th>0</th>\n",
       "      <td>2008</td>\n",
       "      <td>1</td>\n",
       "      <td>1</td>\n",
       "    </tr>\n",
       "    <tr>\n",
       "      <th>1</th>\n",
       "      <td>2008</td>\n",
       "      <td>2</td>\n",
       "      <td>1</td>\n",
       "    </tr>\n",
       "    <tr>\n",
       "      <th>2</th>\n",
       "      <td>2009</td>\n",
       "      <td>5</td>\n",
       "      <td>1</td>\n",
       "    </tr>\n",
       "    <tr>\n",
       "      <th>3</th>\n",
       "      <td>2009</td>\n",
       "      <td>11</td>\n",
       "      <td>1</td>\n",
       "    </tr>\n",
       "    <tr>\n",
       "      <th>4</th>\n",
       "      <td>2010</td>\n",
       "      <td>11</td>\n",
       "      <td>1</td>\n",
       "    </tr>\n",
       "    <tr>\n",
       "      <th>...</th>\n",
       "      <td>...</td>\n",
       "      <td>...</td>\n",
       "      <td>...</td>\n",
       "    </tr>\n",
       "    <tr>\n",
       "      <th>103</th>\n",
       "      <td>2021</td>\n",
       "      <td>5</td>\n",
       "      <td>132</td>\n",
       "    </tr>\n",
       "    <tr>\n",
       "      <th>104</th>\n",
       "      <td>2021</td>\n",
       "      <td>6</td>\n",
       "      <td>207</td>\n",
       "    </tr>\n",
       "    <tr>\n",
       "      <th>105</th>\n",
       "      <td>2021</td>\n",
       "      <td>7</td>\n",
       "      <td>257</td>\n",
       "    </tr>\n",
       "    <tr>\n",
       "      <th>106</th>\n",
       "      <td>2021</td>\n",
       "      <td>8</td>\n",
       "      <td>178</td>\n",
       "    </tr>\n",
       "    <tr>\n",
       "      <th>107</th>\n",
       "      <td>2021</td>\n",
       "      <td>9</td>\n",
       "      <td>183</td>\n",
       "    </tr>\n",
       "  </tbody>\n",
       "</table>\n",
       "<p>108 rows × 3 columns</p>\n",
       "</div>"
      ]
     },
     "execution_count": 37,
     "metadata": {},
     "output_type": "execute_result"
    }
   ],
   "execution_count": 37
  },
  {
   "cell_type": "markdown",
   "id": "fdca9b6f",
   "metadata": {
    "papermill": {
     "duration": 0.015577,
     "end_time": "2024-05-12T11:47:57.347124",
     "exception": false,
     "start_time": "2024-05-12T11:47:57.331547",
     "status": "completed"
    },
    "tags": []
   },
   "source": [
    "#  Yearly Trend of Movie and TV Show Releases"
   ]
  },
  {
   "cell_type": "code",
   "id": "7a5a6a89",
   "metadata": {
    "execution": {
     "iopub.execute_input": "2024-05-12T11:47:57.381058Z",
     "iopub.status.busy": "2024-05-12T11:47:57.380234Z",
     "iopub.status.idle": "2024-05-12T11:47:57.776608Z",
     "shell.execute_reply": "2024-05-12T11:47:57.775733Z"
    },
    "papermill": {
     "duration": 0.416226,
     "end_time": "2024-05-12T11:47:57.778927",
     "exception": false,
     "start_time": "2024-05-12T11:47:57.362701",
     "status": "completed"
    },
    "tags": [],
    "ExecuteTime": {
     "end_time": "2024-06-28T15:00:32.458283Z",
     "start_time": "2024-06-28T15:00:32.441654Z"
    }
   },
   "source": "df.groupby(['year_added']).size().reset_index(name='count')",
   "outputs": [
    {
     "data": {
      "text/plain": [
       "    year_added  count\n",
       "0         2008      2\n",
       "1         2009      2\n",
       "2         2010      1\n",
       "3         2011     13\n",
       "4         2012      3\n",
       "5         2013     11\n",
       "6         2014     24\n",
       "7         2015     82\n",
       "8         2016    426\n",
       "9         2017   1185\n",
       "10        2018   1648\n",
       "11        2019   2016\n",
       "12        2020   1879\n",
       "13        2021   1498"
      ],
      "text/html": [
       "<div>\n",
       "<style scoped>\n",
       "    .dataframe tbody tr th:only-of-type {\n",
       "        vertical-align: middle;\n",
       "    }\n",
       "\n",
       "    .dataframe tbody tr th {\n",
       "        vertical-align: top;\n",
       "    }\n",
       "\n",
       "    .dataframe thead th {\n",
       "        text-align: right;\n",
       "    }\n",
       "</style>\n",
       "<table border=\"1\" class=\"dataframe\">\n",
       "  <thead>\n",
       "    <tr style=\"text-align: right;\">\n",
       "      <th></th>\n",
       "      <th>year_added</th>\n",
       "      <th>count</th>\n",
       "    </tr>\n",
       "  </thead>\n",
       "  <tbody>\n",
       "    <tr>\n",
       "      <th>0</th>\n",
       "      <td>2008</td>\n",
       "      <td>2</td>\n",
       "    </tr>\n",
       "    <tr>\n",
       "      <th>1</th>\n",
       "      <td>2009</td>\n",
       "      <td>2</td>\n",
       "    </tr>\n",
       "    <tr>\n",
       "      <th>2</th>\n",
       "      <td>2010</td>\n",
       "      <td>1</td>\n",
       "    </tr>\n",
       "    <tr>\n",
       "      <th>3</th>\n",
       "      <td>2011</td>\n",
       "      <td>13</td>\n",
       "    </tr>\n",
       "    <tr>\n",
       "      <th>4</th>\n",
       "      <td>2012</td>\n",
       "      <td>3</td>\n",
       "    </tr>\n",
       "    <tr>\n",
       "      <th>5</th>\n",
       "      <td>2013</td>\n",
       "      <td>11</td>\n",
       "    </tr>\n",
       "    <tr>\n",
       "      <th>6</th>\n",
       "      <td>2014</td>\n",
       "      <td>24</td>\n",
       "    </tr>\n",
       "    <tr>\n",
       "      <th>7</th>\n",
       "      <td>2015</td>\n",
       "      <td>82</td>\n",
       "    </tr>\n",
       "    <tr>\n",
       "      <th>8</th>\n",
       "      <td>2016</td>\n",
       "      <td>426</td>\n",
       "    </tr>\n",
       "    <tr>\n",
       "      <th>9</th>\n",
       "      <td>2017</td>\n",
       "      <td>1185</td>\n",
       "    </tr>\n",
       "    <tr>\n",
       "      <th>10</th>\n",
       "      <td>2018</td>\n",
       "      <td>1648</td>\n",
       "    </tr>\n",
       "    <tr>\n",
       "      <th>11</th>\n",
       "      <td>2019</td>\n",
       "      <td>2016</td>\n",
       "    </tr>\n",
       "    <tr>\n",
       "      <th>12</th>\n",
       "      <td>2020</td>\n",
       "      <td>1879</td>\n",
       "    </tr>\n",
       "    <tr>\n",
       "      <th>13</th>\n",
       "      <td>2021</td>\n",
       "      <td>1498</td>\n",
       "    </tr>\n",
       "  </tbody>\n",
       "</table>\n",
       "</div>"
      ]
     },
     "execution_count": 40,
     "metadata": {},
     "output_type": "execute_result"
    }
   ],
   "execution_count": 40
  },
  {
   "cell_type": "markdown",
   "id": "a9c53bf2",
   "metadata": {
    "papermill": {
     "duration": 0.016494,
     "end_time": "2024-05-12T11:47:57.812428",
     "exception": false,
     "start_time": "2024-05-12T11:47:57.795934",
     "status": "completed"
    },
    "tags": []
   },
   "source": [
    "# Top 10 Movies"
   ]
  },
  {
   "cell_type": "code",
   "id": "80901ec3",
   "metadata": {
    "execution": {
     "iopub.execute_input": "2024-05-12T11:47:57.848387Z",
     "iopub.status.busy": "2024-05-12T11:47:57.847313Z",
     "iopub.status.idle": "2024-05-12T11:47:58.254510Z",
     "shell.execute_reply": "2024-05-12T11:47:58.253361Z"
    },
    "papermill": {
     "duration": 0.429478,
     "end_time": "2024-05-12T11:47:58.257988",
     "exception": false,
     "start_time": "2024-05-12T11:47:57.828510",
     "status": "completed"
    },
    "tags": [],
    "ExecuteTime": {
     "end_time": "2024-06-28T15:06:46.232571Z",
     "start_time": "2024-06-28T15:06:46.209551Z"
    }
   },
   "source": "df[df['type'] == 'Movie']['title'].value_counts().head(10)",
   "outputs": [
    {
     "data": {
      "text/plain": [
       "title\n",
       "22-Jul                                 2\n",
       "15-Aug                                 2\n",
       "Dick Johnson Is Dead                   1\n",
       "Bottom of the World                    1\n",
       "Bobby Sands: 66 Days                   1\n",
       "Bobby Robson: More Than a Manager      1\n",
       "Bobby                                  1\n",
       "Bobbi Jene                             1\n",
       "Bob's Broken Sleigh                    1\n",
       "Bob Lazar: Area 51 & Flying Saucers    1\n",
       "Name: count, dtype: int64"
      ]
     },
     "execution_count": 51,
     "metadata": {},
     "output_type": "execute_result"
    }
   ],
   "execution_count": 51
  },
  {
   "cell_type": "markdown",
   "id": "94ee0043",
   "metadata": {
    "papermill": {
     "duration": 0.018256,
     "end_time": "2024-05-12T11:47:58.294946",
     "exception": false,
     "start_time": "2024-05-12T11:47:58.276690",
     "status": "completed"
    },
    "tags": []
   },
   "source": [
    "# Top 10 TV Show"
   ]
  },
  {
   "cell_type": "code",
   "id": "bfa34cff",
   "metadata": {
    "execution": {
     "iopub.execute_input": "2024-05-12T11:47:58.334422Z",
     "iopub.status.busy": "2024-05-12T11:47:58.333519Z",
     "iopub.status.idle": "2024-05-12T11:47:58.743291Z",
     "shell.execute_reply": "2024-05-12T11:47:58.740473Z"
    },
    "papermill": {
     "duration": 0.433393,
     "end_time": "2024-05-12T11:47:58.747081",
     "exception": false,
     "start_time": "2024-05-12T11:47:58.313688",
     "status": "completed"
    },
    "tags": [],
    "ExecuteTime": {
     "end_time": "2024-06-28T15:07:29.700166Z",
     "start_time": "2024-06-28T15:07:29.673394Z"
    }
   },
   "source": "df[df['type'] == 'TV Show']['title'].value_counts().head(10)",
   "outputs": [
    {
     "data": {
      "text/plain": [
       "title\n",
       "9-Feb                     2\n",
       "Ganglands                 1\n",
       "Way Back into Love        1\n",
       "People Just Do Nothing    1\n",
       "7 Days Out                1\n",
       "Jojo's World              1\n",
       "LAST HOPE                 1\n",
       "Lion Pride                1\n",
       "Love @ Seventeen          1\n",
       "Perfume                   1\n",
       "Name: count, dtype: int64"
      ]
     },
     "execution_count": 52,
     "metadata": {},
     "output_type": "execute_result"
    }
   ],
   "execution_count": 52
  },
  {
   "cell_type": "markdown",
   "id": "afd33407",
   "metadata": {
    "papermill": {
     "duration": 0.026323,
     "end_time": "2024-05-12T11:47:58.799910",
     "exception": false,
     "start_time": "2024-05-12T11:47:58.773587",
     "status": "completed"
    },
    "tags": []
   },
   "source": [
    "#  Top_10_Directors"
   ]
  },
  {
   "cell_type": "code",
   "id": "5374900e",
   "metadata": {
    "execution": {
     "iopub.execute_input": "2024-05-12T11:47:58.842128Z",
     "iopub.status.busy": "2024-05-12T11:47:58.841737Z",
     "iopub.status.idle": "2024-05-12T11:47:58.857659Z",
     "shell.execute_reply": "2024-05-12T11:47:58.856365Z"
    },
    "papermill": {
     "duration": 0.040945,
     "end_time": "2024-05-12T11:47:58.861845",
     "exception": false,
     "start_time": "2024-05-12T11:47:58.820900",
     "status": "completed"
    },
    "tags": [],
    "ExecuteTime": {
     "end_time": "2024-06-28T15:13:44.606295Z",
     "start_time": "2024-06-28T15:13:44.596666Z"
    }
   },
   "source": "df = df[df[\"director\"] != \"Not Given\"]",
   "outputs": [],
   "execution_count": 55
  },
  {
   "metadata": {
    "ExecuteTime": {
     "end_time": "2024-06-28T15:13:45.592034Z",
     "start_time": "2024-06-28T15:13:45.567146Z"
    }
   },
   "cell_type": "code",
   "source": "df[\"director\"].value_counts().head(10)",
   "id": "3162f72ba3ea519",
   "outputs": [
    {
     "data": {
      "text/plain": [
       "director\n",
       "Rajiv Chilaka             20\n",
       "Raúl Campos, Jan Suter    18\n",
       "Alastair Fothergill       18\n",
       "Marcus Raboy              16\n",
       "Suhas Kadav               16\n",
       "Jay Karas                 14\n",
       "Cathy Garcia-Molina       13\n",
       "Youssef Chahine           12\n",
       "Jay Chapman               12\n",
       "Martin Scorsese           12\n",
       "Name: count, dtype: int64"
      ]
     },
     "execution_count": 56,
     "metadata": {},
     "output_type": "execute_result"
    }
   ],
   "execution_count": 56
  }
 ],
 "metadata": {
  "kaggle": {
   "accelerator": "none",
   "dataSources": [
    {
     "datasetId": 2437124,
     "sourceId": 4123716,
     "sourceType": "datasetVersion"
    }
   ],
   "dockerImageVersionId": 30698,
   "isGpuEnabled": false,
   "isInternetEnabled": true,
   "language": "python",
   "sourceType": "notebook"
  },
  "kernelspec": {
   "display_name": "Python 3 (ipykernel)",
   "language": "python",
   "name": "python3"
  },
  "language_info": {
   "codemirror_mode": {
    "name": "ipython",
    "version": 3
   },
   "file_extension": ".py",
   "mimetype": "text/x-python",
   "name": "python",
   "nbconvert_exporter": "python",
   "pygments_lexer": "ipython3",
   "version": "3.9.13"
  },
  "papermill": {
   "default_parameters": {},
   "duration": 10.67954,
   "end_time": "2024-05-12T11:48:00.055771",
   "environment_variables": {},
   "exception": null,
   "input_path": "__notebook__.ipynb",
   "output_path": "__notebook__.ipynb",
   "parameters": {},
   "start_time": "2024-05-12T11:47:49.376231",
   "version": "2.5.0"
  }
 },
 "nbformat": 4,
 "nbformat_minor": 5
}
